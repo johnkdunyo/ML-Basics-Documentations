{
 "metadata": {
  "language_info": {
   "codemirror_mode": {
    "name": "ipython",
    "version": 3
   },
   "file_extension": ".py",
   "mimetype": "text/x-python",
   "name": "python",
   "nbconvert_exporter": "python",
   "pygments_lexer": "ipython3",
   "version": "3.7.6"
  },
  "orig_nbformat": 2,
  "kernelspec": {
   "name": "python376jvsc74a57bd00006681b65552ee06a06484d6e979b18764f8243836b7c1a62fbc4ac5eee8365",
   "display_name": "Python 3.7.6 64-bit ('base': conda)"
  }
 },
 "nbformat": 4,
 "nbformat_minor": 2,
 "cells": [
  {
   "cell_type": "code",
   "execution_count": 44,
   "metadata": {},
   "outputs": [],
   "source": [
    "import pandas as pd\n",
    "from sklearn.tree import DecisionTreeClassifier\n",
    "from sklearn.model_selection import train_test_split     #this helps in spliting our dataset into train and test easily\n",
    "from sklearn.metrics import accuracy_score        #this is for checking the accuracy of our predictions\n",
    "from sklearn.externals import joblib              #for saving and loading trained models so we dont have to be laoding all the time\n",
    "from sklearn import tree                          #this is for visualizing our decision trees\n",
    "# import all needed libraries\n",
    "\n",
    "music_data = pd.read_csv('music.csv')\n",
    "#our dataframes"
   ]
  },
  {
   "cell_type": "code",
   "execution_count": 23,
   "metadata": {},
   "outputs": [],
   "source": [
    "#group dataset into training (80%) and testing datasets (20%); with X as input and y as output\n",
    "X = music_data.drop(columns=['genre'])\n",
    "y = music_data['genre']\n",
    "#now we call the train_test_split method to do its work, it returns 4 tuples; train and test pairs\n",
    "X_train, X_test, y_train, y_test = train_test_split(X, y, test_size=0.2) #where the 0.2 means 20% of whole data is for testing\n"
   ]
  },
  {
   "cell_type": "code",
   "execution_count": 36,
   "metadata": {},
   "outputs": [
    {
     "output_type": "execute_result",
     "data": {
      "text/plain": [
       "['trained-music-recommender.joblib']"
      ]
     },
     "metadata": {},
     "execution_count": 36
    }
   ],
   "source": [
    "#create new instance of the DecisionTreeClasifier and the predict\n",
    "model = DecisionTreeClassifier()\n",
    "model.fit(X_train, y_train)        #we pass only the train dataframe to this method for training\n",
    "\n",
    "#you can now save your trained model using th joblid method.... so next time you only load it\n",
    "joblib.dump(model, 'trained-music-recommender.joblib')"
   ]
  },
  {
   "cell_type": "code",
   "execution_count": 38,
   "metadata": {},
   "outputs": [
    {
     "output_type": "execute_result",
     "data": {
      "text/plain": [
       "array(['Classical', 'Acoustic', 'Classical', 'HipHop'], dtype=object)"
      ]
     },
     "metadata": {},
     "execution_count": 38
    }
   ],
   "source": [
    "#trying out the predictions, we pass the actual test dataframe here\n",
    "\n",
    "#if you saved your model already with joblib,.... you can load it with beforee using  it\n",
    "model = joblib.load('trained-music-recommender.joblib')\n",
    "predictions = model.predict(X_test,)\n",
    "predictions"
   ]
  },
  {
   "cell_type": "code",
   "execution_count": 42,
   "metadata": {},
   "outputs": [
    {
     "output_type": "execute_result",
     "data": {
      "text/plain": [
       "1.0"
      ]
     },
     "metadata": {},
     "execution_count": 42
    }
   ],
   "source": [
    "#we now compute the accuracy of our ml model.... using the accuracy method; first argument is the original/expected output and #second is the predicted output\n",
    "score = accuracy_score(y_test, predictions)\n",
    "score"
   ]
  },
  {
   "cell_type": "code",
   "execution_count": 45,
   "metadata": {},
   "outputs": [],
   "source": [
    "#now lets visualize our decision tree with the tree module\n",
    "\n",
    "tree.export_graphviz(model, out_file=\"music-recommeder.dot\",\n",
    "                            feature_names = ['age', 'gender'],\n",
    "                            class_names = sorted(y.unique()),\n",
    "                            filled = True,\n",
    "                            rounded=True,\n",
    "                            label='all')"
   ]
  },
  {
   "cell_type": "code",
   "execution_count": null,
   "metadata": {},
   "outputs": [],
   "source": []
  }
 ]
}